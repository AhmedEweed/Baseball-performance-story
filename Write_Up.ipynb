{
 "cells": [
  {
   "cell_type": "markdown",
   "metadata": {},
   "source": [
    "First version: [Story_v1](https://public.tableau.com/profile/ahmed.eweed#!/vizhome/Story_241/Story1?publish=yes) \n",
    "\n",
    "Final version: [Story_final](https://public.tableau.com/profile/ahmed.eweed#!/vizhome/Storyfinal/Story2?publish=yes)"
   ]
  },
  {
   "cell_type": "markdown",
   "metadata": {},
   "source": [
    "# Summary\n",
    "\n",
    "Baseball performance depends on many variables.  \n",
    "Among others, I see handedness is the most improtant variable to observe, right hand batters are the best.  \n",
    "Weight and height seem to have no significant effect on home runs or batting average from player to another."
   ]
  },
  {
   "cell_type": "markdown",
   "metadata": {},
   "source": [
    "# Design\n",
    "\n",
    "I prefered a simple design with all of the charts as bar charts  \n",
    "as the dataset has four numeric variables (Weight, height, home runs and batting average)  \n",
    "and only two categorical variables (Name and handedness).  \n",
    "Therefore a bar chart is most suitble for numeric data\n",
    "\n",
    "also I used color as an encoding for weight and height from light to dark indicating little to large.  \n",
    "I found that most of my friends have little knowledge about baseball itself!  \n",
    "but with good design practices I succeded in conveying my message.\n",
    "\n"
   ]
  },
  {
   "cell_type": "markdown",
   "metadata": {},
   "source": [
    "# Feedback\n",
    "\n",
    "> \"I see right hand batters score more home runs and have more batting average than left handed or both hand players\"\n",
    "\n",
    "> <cite> Mohamed Abdelwahab </cite>  \n",
    "\n",
    "> \"Colors are suitble and eye comforting, I think this is a good story although I have little knowledge about baseball!\"\n",
    "\n",
    "> <cite> Abdallah Nader </cite>\n",
    "\n",
    "> \"Weight and height do not seem to have big impact on determining the goodness of a batter\"\n",
    "\n",
    "> <cite> Ashraf Hesham </cite>\n",
    "\n",
    "> \"I think a more descriptive color encoding will be useful\"\n",
    "\n",
    "> <cite> Nael Ayman </cite>\n",
    "\n",
    "> \"I am interested in navigating the handedness of the player myself while exploring the visualizaiton!\"\n",
    "\n",
    "> <cite> Alaa Salah </cite>\n",
    "\n",
    "This is the feed back I received from my friends. it was written in Arabic,  \n",
    "so I translated and quoted it for easy understanding.  \n",
    "Most of them do not have much knowledge about baseball more than that it is a game played in the US  \n",
    "using a bat and a small ball!"
   ]
  },
  {
   "cell_type": "markdown",
   "metadata": {},
   "source": [
    "# Resources\n",
    "\n",
    "a good paper about performance factors by Joshua Yeager was very helpful to me  \n",
    "can be found [here](http://scholarship.claremont.edu/cgi/viewcontent.cgi?article=2636&context=cmc_theses)  \n",
    "\n"
   ]
  },
  {
   "cell_type": "code",
   "execution_count": null,
   "metadata": {},
   "outputs": [],
   "source": []
  }
 ],
 "metadata": {
  "kernelspec": {
   "display_name": "Python 3",
   "language": "python",
   "name": "python3"
  },
  "language_info": {
   "codemirror_mode": {
    "name": "ipython",
    "version": 3
   },
   "file_extension": ".py",
   "mimetype": "text/x-python",
   "name": "python",
   "nbconvert_exporter": "python",
   "pygments_lexer": "ipython3",
   "version": "3.7.0"
  }
 },
 "nbformat": 4,
 "nbformat_minor": 2
}
